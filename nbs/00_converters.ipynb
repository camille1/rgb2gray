{
 "cells": [
  {
   "cell_type": "code",
   "execution_count": null,
   "metadata": {},
   "outputs": [],
   "source": [
    "#| default_exp converters"
   ]
  },
  {
   "cell_type": "markdown",
   "metadata": {},
   "source": [
    "# RGB2GRAY\n",
    "\n",
    "> A simple API for converting an RGB to a grayscale image."
   ]
  },
  {
   "cell_type": "code",
   "execution_count": null,
   "metadata": {},
   "outputs": [],
   "source": [
    "#|hide\n",
    "from nbdev.showdoc import *"
   ]
  },
  {
   "cell_type": "code",
   "execution_count": null,
   "metadata": {},
   "outputs": [],
   "source": [
    "#|export\n",
    "\n",
    "import numpy as np\n",
    "from PIL import Image\n",
    "import cv2"
   ]
  },
  {
   "cell_type": "code",
   "execution_count": null,
   "metadata": {},
   "outputs": [],
   "source": [
    "#|export\n",
    "def rgb2gray(img): \n",
    "    \"Convert RGB image to grayscale.\"\n",
    "    img = img.convert(\"RGB\")\n",
    "    img_array = np.asarray(img)\n",
    "    return cv2.cvtColor(np.asarray(img), cv2.COLOR_RGB2GRAY)"
   ]
  },
  {
   "cell_type": "markdown",
   "metadata": {},
   "source": [
    "Here is an example of conversion..."
   ]
  },
  {
   "cell_type": "code",
   "execution_count": null,
   "metadata": {},
   "outputs": [],
   "source": [
    "import matplotlib.pyplot as plt\n",
    "from io import BytesIO\n",
    "import requests"
   ]
  },
  {
   "cell_type": "code",
   "execution_count": null,
   "metadata": {},
   "outputs": [
    {
     "data": {
      "text/plain": [
       "array([[76, 76, 76, 76, 76, 76, 76, 76, 76, 76],\n",
       "       [76, 76, 76, 76, 76, 76, 76, 76, 76, 76],\n",
       "       [76, 76, 76, 76, 76, 76, 76, 76, 76, 76],\n",
       "       [76, 76, 76, 76, 76, 76, 76, 76, 76, 76],\n",
       "       [76, 76, 76, 76, 76, 76, 76, 76, 76, 76],\n",
       "       [76, 76, 76, 76, 76, 76, 76, 76, 76, 76],\n",
       "       [76, 76, 76, 76, 76, 76, 76, 76, 76, 76],\n",
       "       [76, 76, 76, 76, 76, 76, 76, 76, 76, 76],\n",
       "       [76, 76, 76, 76, 76, 76, 76, 76, 76, 76],\n",
       "       [76, 76, 76, 76, 76, 76, 76, 76, 76, 76]], dtype=uint8)"
      ]
     },
     "execution_count": null,
     "metadata": {},
     "output_type": "execute_result"
    }
   ],
   "source": [
    "red = Image.new('RGB', (10, 10), color = (255,0,0))\n",
    "rgb2gray(red)"
   ]
  },
  {
   "cell_type": "code",
   "execution_count": null,
   "metadata": {},
   "outputs": [
    {
     "data": {
      "image/png": "[encoded data removed]",
      "text/plain": [
       "<Figure size 720x720 with 2 Axes>"
      ]
     },
     "metadata": {
      "needs_background": "light"
     },
     "output_type": "display_data"
    }
   ],
   "source": [
    "fig, axes = plt.subplots(nrows=1, ncols=2, figsize=(10,10))\n",
    "axes[0].imshow(red)\n",
    "axes[1].imshow(rgb2gray(red), cmap='gray')\n",
    "plt.show();"
   ]
  },
  {
   "cell_type": "code",
   "execution_count": null,
   "metadata": {},
   "outputs": [],
   "source": [
    "#| hide\n",
    "from nbdev import nbdev_export\n",
    "nbdev_export()"
   ]
  },
  {
   "cell_type": "code",
   "execution_count": null,
   "metadata": {},
   "outputs": [],
   "source": [
    "# !pip install -U --user -e ."
   ]
  }
 ],
 "metadata": {
  "kernelspec": {
   "display_name": "Python 3 (ipykernel)",
   "language": "python",
   "name": "python3"
  }
 },
 "nbformat": 4,
 "nbformat_minor": 4
}
